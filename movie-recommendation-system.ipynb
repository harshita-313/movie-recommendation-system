{
 "cells": [
  {
   "cell_type": "code",
   "execution_count": null,
   "id": "91ffd110-fb23-44ad-994e-061991ec12d7",
   "metadata": {},
   "outputs": [],
   "source": [
    "import pandas as pd\n",
    "import numpy as np\n",
    "import ast"
   ]
  },
  {
   "cell_type": "code",
   "execution_count": null,
   "id": "3ba6a36c-b22a-49d0-a4c5-8ebfe0ac41a6",
   "metadata": {},
   "outputs": [],
   "source": [
    "movies = pd.read_csv('tmdb_5000_movies.csv')\n",
    "credits = pd.read_csv('tmdb_5000_credits.csv')"
   ]
  },
  {
   "cell_type": "code",
   "execution_count": null,
   "id": "2a2d6f7f-89e3-487e-8909-0d5e69f9200f",
   "metadata": {},
   "outputs": [],
   "source": [
    "movies.head()"
   ]
  },
  {
   "cell_type": "code",
   "execution_count": null,
   "id": "932ddad0-a6a1-4c88-ab45-7fd7f6a18bed",
   "metadata": {},
   "outputs": [],
   "source": [
    "credits.head()"
   ]
  },
  {
   "cell_type": "code",
   "execution_count": null,
   "id": "f7c8209d-9909-41e9-a79e-55519f5a2178",
   "metadata": {},
   "outputs": [],
   "source": [
    "movies.shape"
   ]
  },
  {
   "cell_type": "code",
   "execution_count": null,
   "id": "a6850f7d-3e51-4880-95c0-0102b3069f3f",
   "metadata": {},
   "outputs": [],
   "source": [
    "movies.duplicated().sum()"
   ]
  },
  {
   "cell_type": "code",
   "execution_count": null,
   "id": "3491300b-045e-478e-8583-fa99406becf2",
   "metadata": {},
   "outputs": [],
   "source": [
    "credits.shape"
   ]
  },
  {
   "cell_type": "code",
   "execution_count": null,
   "id": "c463c41d-f9c7-4a6d-9534-6deaed7ad9f2",
   "metadata": {},
   "outputs": [],
   "source": [
    "credits.rename(columns={'movie_id':'id'}, inplace=True)"
   ]
  },
  {
   "cell_type": "code",
   "execution_count": null,
   "id": "66712c3e-9a7a-4521-9c3e-d5aeddc199d5",
   "metadata": {},
   "outputs": [],
   "source": [
    "credits.head()"
   ]
  },
  {
   "cell_type": "code",
   "execution_count": null,
   "id": "96983799-f8aa-42a0-9a09-eb21fea5d7cc",
   "metadata": {},
   "outputs": [],
   "source": [
    "movies  = pd.merge(credits, movies, on='id')"
   ]
  },
  {
   "cell_type": "code",
   "execution_count": null,
   "id": "f8662102-e40d-45b9-bff1-7d41d53c93eb",
   "metadata": {},
   "outputs": [],
   "source": [
    "movies.shape"
   ]
  },
  {
   "cell_type": "code",
   "execution_count": null,
   "id": "257ca2d5-419f-4664-aa16-93386a851ae7",
   "metadata": {},
   "outputs": [],
   "source": [
    "movies.head()"
   ]
  },
  {
   "cell_type": "code",
   "execution_count": null,
   "id": "32ab2869-a3e7-49f6-b989-df9cd07a0e7f",
   "metadata": {},
   "outputs": [],
   "source": [
    "movies.rename(columns={'title_x':'title'}, inplace=True)"
   ]
  },
  {
   "cell_type": "code",
   "execution_count": null,
   "id": "561b2957-f879-42eb-978b-a5b07d25d3f4",
   "metadata": {},
   "outputs": [],
   "source": [
    "movies.head()"
   ]
  },
  {
   "cell_type": "code",
   "execution_count": null,
   "id": "1fa80981-d09f-4e25-9eed-25f41f7b91d4",
   "metadata": {},
   "outputs": [],
   "source": [
    "movies_dataset = movies[['id', 'title', 'cast', 'crew', 'genres', 'keywords', 'overview']]"
   ]
  },
  {
   "cell_type": "code",
   "execution_count": null,
   "id": "e2d32fe2-a29b-4d02-8b1d-e48cdd5a16bd",
   "metadata": {},
   "outputs": [],
   "source": [
    "movies_dataset.shape"
   ]
  },
  {
   "cell_type": "code",
   "execution_count": null,
   "id": "77709125-2305-40a0-b93c-f81e8f6c8154",
   "metadata": {},
   "outputs": [],
   "source": [
    "movies_dataset.head()"
   ]
  },
  {
   "cell_type": "code",
   "execution_count": null,
   "id": "f189af35-873a-40eb-bcf6-e8d3af75e9bc",
   "metadata": {},
   "outputs": [],
   "source": [
    "print(movies_dataset['cast'][0])"
   ]
  },
  {
   "cell_type": "code",
   "execution_count": null,
   "id": "1cc4087b-2f37-43d0-b644-8138bb656ddc",
   "metadata": {},
   "outputs": [],
   "source": [
    "def get_top_5_cast(cast_str):\n",
    "    try:\n",
    "        # Convert string to list of dictionaries\n",
    "        cast_list = ast.literal_eval(cast_str)\n",
    "        names = [person['name'] for person in cast_list[:5]]\n",
    "        return names\n",
    "    except:\n",
    "        return []"
   ]
  },
  {
   "cell_type": "code",
   "execution_count": null,
   "id": "0652e507-136b-4dea-89a8-74ea3071ed04",
   "metadata": {},
   "outputs": [],
   "source": [
    "movies_dataset = movies_dataset.copy()  # avoids SettingWithCopyWarning\n",
    "movies_dataset['get_top_5_cast'] = movies_dataset['cast'].apply(get_top_5_cast)"
   ]
  },
  {
   "cell_type": "code",
   "execution_count": null,
   "id": "fde3701a-537c-4e7d-be68-58bda5851305",
   "metadata": {},
   "outputs": [],
   "source": [
    "print(movies_dataset[['title', 'get_top_5_cast']].head())"
   ]
  },
  {
   "cell_type": "code",
   "execution_count": null,
   "id": "80dbb5c5-0223-4d1b-bad6-0a3986619c3f",
   "metadata": {},
   "outputs": [],
   "source": [
    "movies_dataset.head()"
   ]
  },
  {
   "cell_type": "code",
   "execution_count": null,
   "id": "ec74c3d2-b4c8-419d-9cbe-1968b4af0086",
   "metadata": {},
   "outputs": [],
   "source": [
    "movies_dataset['cast'] = movies_dataset['get_top_5_cast']"
   ]
  },
  {
   "cell_type": "code",
   "execution_count": null,
   "id": "c44c64f0-5215-46bb-b231-b74b8cc046bc",
   "metadata": {},
   "outputs": [],
   "source": [
    "movies_dataset.head()"
   ]
  },
  {
   "cell_type": "code",
   "execution_count": null,
   "id": "477ff1b0-9726-4843-b086-87f7f3bc1b45",
   "metadata": {},
   "outputs": [],
   "source": [
    "movies_dataset.drop('get_top_5_cast', axis=1, inplace=True)"
   ]
  },
  {
   "cell_type": "code",
   "execution_count": null,
   "id": "1294160c-47b8-42ed-b0d7-23ba57a3691a",
   "metadata": {},
   "outputs": [],
   "source": [
    "movies_dataset.head()"
   ]
  },
  {
   "cell_type": "code",
   "execution_count": null,
   "id": "7de3816e-7c80-448c-9d2e-6292b88bfc25",
   "metadata": {},
   "outputs": [],
   "source": [
    "# Function to extract director's name\n",
    "def get_director(crew_str):\n",
    "    try:\n",
    "        crew_list = ast.literal_eval(crew_str)  # Convert string to list\n",
    "        for member in crew_list:\n",
    "            if member.get('job') == 'Director':\n",
    "                return member.get('name')\n",
    "        return None\n",
    "    except:\n",
    "        return None\n",
    "\n",
    "# ✅ Apply the function and store the result in a new column\n",
    "movies_dataset = movies_dataset.copy()  # To avoid SettingWithCopyWarning\n",
    "movies_dataset['director'] = movies_dataset['crew'].apply(get_director)"
   ]
  },
  {
   "cell_type": "code",
   "execution_count": null,
   "id": "88251064-4c30-44e8-912c-d504bd020fdc",
   "metadata": {
    "scrolled": true
   },
   "outputs": [],
   "source": [
    "movies_dataset.head()"
   ]
  },
  {
   "cell_type": "code",
   "execution_count": null,
   "id": "20ed9940-c04c-4251-b10e-61b7f5068160",
   "metadata": {},
   "outputs": [],
   "source": [
    "movies_dataset.drop(columns='crew', axis=1, inplace=True)"
   ]
  },
  {
   "cell_type": "code",
   "execution_count": null,
   "id": "6692f523-32c7-4d73-9d50-5b4a741cf871",
   "metadata": {},
   "outputs": [],
   "source": [
    "movies_dataset.rename(columns={'director':'crew'}, inplace=True)"
   ]
  },
  {
   "cell_type": "code",
   "execution_count": null,
   "id": "ded9b2c1-cba0-43dc-9325-f1da5a241570",
   "metadata": {},
   "outputs": [],
   "source": [
    "movies_dataset.head()"
   ]
  },
  {
   "cell_type": "code",
   "execution_count": null,
   "id": "242d9437-6c54-4e3d-bd44-912a6d27a843",
   "metadata": {},
   "outputs": [],
   "source": [
    "print(movies_dataset['genres'][0])"
   ]
  },
  {
   "cell_type": "code",
   "execution_count": null,
   "id": "19cc6227-7ec8-4d4e-aac5-09ec94c2e6b2",
   "metadata": {},
   "outputs": [],
   "source": [
    "# Function to extract just the genre names\n",
    "def extract_genres(genre_str):\n",
    "    try:\n",
    "        genre_list = ast.literal_eval(genre_str)\n",
    "        names = [g['name'] for g in genre_list]\n",
    "        return names\n",
    "    except:\n",
    "        return []\n",
    "\n",
    "# Apply the function\n",
    "movies_dataset['genres'] = movies_dataset['genres'].apply(extract_genres)"
   ]
  },
  {
   "cell_type": "code",
   "execution_count": null,
   "id": "8ffab366-1387-4a4c-b9e1-402f77097bd7",
   "metadata": {},
   "outputs": [],
   "source": [
    "movies_dataset.head()"
   ]
  },
  {
   "cell_type": "code",
   "execution_count": null,
   "id": "19840599-0bed-47ec-ad80-69e6d2d0a58d",
   "metadata": {},
   "outputs": [],
   "source": [
    "print(movies_dataset['keywords'][0])"
   ]
  },
  {
   "cell_type": "code",
   "execution_count": null,
   "id": "ba14779a-eca1-49db-87e9-f16538cffc0a",
   "metadata": {},
   "outputs": [],
   "source": [
    "def extract_keywords(keyword_str):\n",
    "    try:\n",
    "        keyword_list = ast.literal_eval(keyword_str)\n",
    "        names = [k['name'] for k in keyword_list]\n",
    "        return names\n",
    "    except:\n",
    "        return []\n",
    "\n",
    "# Apply to 'keywords' column\n",
    "movies_dataset['keywords'] = movies_dataset['keywords'].apply(extract_keywords)"
   ]
  },
  {
   "cell_type": "code",
   "execution_count": null,
   "id": "f929d212-7084-42e4-a514-1b4e117681dc",
   "metadata": {},
   "outputs": [],
   "source": [
    "movies_dataset.head()"
   ]
  },
  {
   "cell_type": "code",
   "execution_count": null,
   "id": "6216ff83-bee0-41cf-9f5b-6d2dfcaf453b",
   "metadata": {},
   "outputs": [],
   "source": [
    "movies_dataset.isnull().sum()"
   ]
  },
  {
   "cell_type": "code",
   "execution_count": null,
   "id": "f2c79f3a-8a35-45d2-9286-234244ced546",
   "metadata": {},
   "outputs": [],
   "source": [
    "movies_dataset.shape"
   ]
  },
  {
   "cell_type": "code",
   "execution_count": null,
   "id": "3ebda4a0-3f95-4621-8639-e130ca0717a0",
   "metadata": {},
   "outputs": [],
   "source": [
    "movies_dataset.dropna(inplace=True)"
   ]
  },
  {
   "cell_type": "code",
   "execution_count": null,
   "id": "a70a9ad4-ac85-45dc-ab0d-03f2ca680e24",
   "metadata": {},
   "outputs": [],
   "source": [
    "movies_dataset.shape"
   ]
  },
  {
   "cell_type": "code",
   "execution_count": null,
   "id": "740e7f2b-cb1e-4b17-9866-985499d5828c",
   "metadata": {},
   "outputs": [],
   "source": [
    "def remove_spaces(name_list):\n",
    "    try:\n",
    "        return [name.replace(\" \", \"\") for name in name_list]\n",
    "    except:\n",
    "        return []\n",
    "\n",
    "# Apply to all list-based columns\n",
    "movies_dataset['cast'] = movies_dataset['cast'].apply(remove_spaces)\n",
    "movies_dataset['genres'] = movies_dataset['genres'].apply(remove_spaces)\n",
    "movies_dataset['keywords'] = movies_dataset['keywords'].apply(remove_spaces)\n",
    "\n",
    "# For single name strings like director (crew column)\n",
    "movies_dataset['crew'] = movies_dataset['crew'].apply(lambda x: x.replace(\" \", \"\") if isinstance(x, str) else x)\n",
    "movies_dataset['overview'] = movies_dataset['overview'].apply(lambda x: ' '.join(x) if isinstance(x, list) else x)"
   ]
  },
  {
   "cell_type": "code",
   "execution_count": null,
   "id": "8cf76b21-fd63-4218-9315-54a1bb95b170",
   "metadata": {},
   "outputs": [],
   "source": [
    "movies_dataset.isnull().sum()"
   ]
  },
  {
   "cell_type": "code",
   "execution_count": null,
   "id": "f103e2f0-584c-4b54-bcf8-4e3c785d023c",
   "metadata": {},
   "outputs": [],
   "source": [
    "movies_dataset.head()"
   ]
  },
  {
   "cell_type": "code",
   "execution_count": null,
   "id": "b91d58ed-763e-4999-adee-93e5ab2201d7",
   "metadata": {},
   "outputs": [],
   "source": [
    "#movies_dataset.duplicated().sum()"
   ]
  },
  {
   "cell_type": "code",
   "execution_count": null,
   "id": "40e118ec-1160-4022-b6a0-e86156101a87",
   "metadata": {},
   "outputs": [],
   "source": [
    "movies_dataset.head()"
   ]
  },
  {
   "cell_type": "code",
   "execution_count": null,
   "id": "463047f4-9f0f-4984-aa22-33f46348f882",
   "metadata": {},
   "outputs": [],
   "source": [
    "movies_dataset['tags'] = (\n",
    "    movies_dataset['cast'].apply(lambda x: ' '.join(x)) + ' ' +\n",
    "    movies_dataset['genres'].apply(lambda x: ' '.join(x)) + ' ' +\n",
    "    movies_dataset['keywords'].apply(lambda x: ' '.join(x)) + ' ' +\n",
    "    movies_dataset['overview'] + ' ' +\n",
    "    movies_dataset['crew']\n",
    ")"
   ]
  },
  {
   "cell_type": "code",
   "execution_count": null,
   "id": "48c2813e-2a16-44d1-837d-1c00aa535ed2",
   "metadata": {},
   "outputs": [],
   "source": [
    "movies_dataset.head()"
   ]
  },
  {
   "cell_type": "code",
   "execution_count": null,
   "id": "ed965765-3126-493b-b9c3-eeddeb2a825a",
   "metadata": {},
   "outputs": [],
   "source": [
    "movies_dataset['overview'][0]"
   ]
  },
  {
   "cell_type": "code",
   "execution_count": null,
   "id": "dd2276a6-be23-4048-9ded-d33e410ab35f",
   "metadata": {},
   "outputs": [],
   "source": [
    "movies_dataset['overview'] = movies_dataset['overview'].apply(lambda x:x.split())"
   ]
  },
  {
   "cell_type": "code",
   "execution_count": null,
   "id": "4fa3b459-b98d-433f-88c3-583eca57e947",
   "metadata": {},
   "outputs": [],
   "source": [
    "movies_dataset.head()"
   ]
  },
  {
   "cell_type": "code",
   "execution_count": null,
   "id": "3c40eb30-c86a-4dd6-8893-f6cd235b5e9f",
   "metadata": {},
   "outputs": [],
   "source": [
    "movies_dataset.drop(columns=['cast','genres','keywords','crew','overview'], axis=1, inplace=True)"
   ]
  },
  {
   "cell_type": "code",
   "execution_count": null,
   "id": "050bf7db-5ce7-4556-96d6-f0a46d6512d0",
   "metadata": {},
   "outputs": [],
   "source": [
    "movies_dataset['tags'] = movies_dataset['tags'].str.lower()"
   ]
  },
  {
   "cell_type": "code",
   "execution_count": null,
   "id": "cbac8cc4-cc55-4421-bc5a-adb1d90a7749",
   "metadata": {},
   "outputs": [],
   "source": [
    "movies_dataset.head()"
   ]
  },
  {
   "cell_type": "code",
   "execution_count": null,
   "id": "ed4b2651-7910-4e5f-9a53-bd56acb0d69d",
   "metadata": {},
   "outputs": [],
   "source": [
    "from nltk.stem.porter import PorterStemmer\n",
    "ps = PorterStemmer()"
   ]
  },
  {
   "cell_type": "code",
   "execution_count": null,
   "id": "d4dd236b-8b5e-428e-bbcc-281bc36a0f15",
   "metadata": {},
   "outputs": [],
   "source": [
    "def stem(text):\n",
    "    y = []\n",
    "\n",
    "    for i in text.split():\n",
    "        y.append(ps.stem(i))\n",
    "\n",
    "    return \" \".join(y)"
   ]
  },
  {
   "cell_type": "code",
   "execution_count": null,
   "id": "04c5f562-526a-46b4-bb27-b15e89f638fa",
   "metadata": {},
   "outputs": [],
   "source": [
    "movies_dataset['tags'] = movies_dataset['tags'].apply(stem)"
   ]
  },
  {
   "cell_type": "code",
   "execution_count": null,
   "id": "ce83293c-5c50-4a4b-9515-f658cdd4f466",
   "metadata": {},
   "outputs": [],
   "source": [
    "print(movies_dataset['tags'][0])"
   ]
  },
  {
   "cell_type": "code",
   "execution_count": null,
   "id": "b21e40a6-d143-49de-8ee1-8889db53780b",
   "metadata": {},
   "outputs": [],
   "source": [
    "# NOW WE NEED TO CONVERT THESE TAGS INTO VECTORS SO THAT WE CAN COMPARE THEM TO EVERY OTHER TAG TO FIND ANY SIMILARITIES BETWEEN THE MOVIES BASED ON THAT\n",
    "# USING BAG OF WORDS\n",
    "\n",
    "from sklearn.feature_extraction.text import CountVectorizer\n",
    "cv = CountVectorizer(max_features=5000, stop_words='english')"
   ]
  },
  {
   "cell_type": "code",
   "execution_count": null,
   "id": "8d1f7a09-b054-4ac5-a38a-e064a69e1c4d",
   "metadata": {},
   "outputs": [],
   "source": [
    "vectors = cv.fit_transform(movies_dataset['tags']).toarray()"
   ]
  },
  {
   "cell_type": "code",
   "execution_count": null,
   "id": "cfe440c5-d5a8-45e9-aa6f-598ddac8aa42",
   "metadata": {},
   "outputs": [],
   "source": [
    "vectors"
   ]
  },
  {
   "cell_type": "code",
   "execution_count": null,
   "id": "c89a9a4b-fb2f-4b45-b762-f8466cadf0ce",
   "metadata": {},
   "outputs": [],
   "source": [
    "len(cv.get_feature_names_out())"
   ]
  },
  {
   "cell_type": "code",
   "execution_count": null,
   "id": "2133f37b-63a9-4f5c-8de1-a3c55ddc918a",
   "metadata": {},
   "outputs": [],
   "source": [
    "cv.get_feature_names_out()"
   ]
  },
  {
   "cell_type": "code",
   "execution_count": null,
   "id": "7918c024-5aaa-4c6e-aa10-3614a2e5023b",
   "metadata": {},
   "outputs": [],
   "source": [
    "tag_names = cv.get_feature_names_out()\n",
    "print(list(tag_names))"
   ]
  },
  {
   "cell_type": "code",
   "execution_count": null,
   "id": "8db81b24-d5a8-4cac-86e4-cb0d605582e3",
   "metadata": {},
   "outputs": [],
   "source": [
    "from sklearn.metrics.pairwise import cosine_similarity"
   ]
  },
  {
   "cell_type": "code",
   "execution_count": null,
   "id": "277fd96a-9c2e-4d33-832e-0de7709524a7",
   "metadata": {},
   "outputs": [],
   "source": [
    "cosine_similarity(vectors).shape"
   ]
  },
  {
   "cell_type": "code",
   "execution_count": null,
   "id": "f65a529f-4d41-4edd-b16a-688f1ac636f6",
   "metadata": {},
   "outputs": [],
   "source": [
    "similarity = cosine_similarity(vectors)"
   ]
  },
  {
   "cell_type": "code",
   "execution_count": null,
   "id": "b37fd417-0eac-4466-9015-81160005a092",
   "metadata": {},
   "outputs": [],
   "source": [
    "similarity[0]"
   ]
  },
  {
   "cell_type": "code",
   "execution_count": null,
   "id": "c0892742-b1e3-4b4b-b031-d7d2e643bd63",
   "metadata": {},
   "outputs": [],
   "source": [
    "import pickle\n",
    "\n",
    "# Save only the movie titles (for dropdown and indexing)\n",
    "pickle.dump(movies_dataset[['title']], open('movies.pkl', 'wb'))\n",
    "\n",
    "# Save the similarity matrix (used in recommend function)\n",
    "pickle.dump(similarity, open('similarity.pkl', 'wb'))"
   ]
  },
  {
   "cell_type": "code",
   "execution_count": null,
   "id": "28e00344-a065-41fd-bdc8-a9c76c323390",
   "metadata": {},
   "outputs": [],
   "source": [
    "from difflib import get_close_matches"
   ]
  },
  {
   "cell_type": "code",
   "execution_count": null,
   "id": "60dc0132-c329-49a9-9100-3ecddd47b799",
   "metadata": {},
   "outputs": [],
   "source": [
    "def recommend(movie):\n",
    "    movie = movie.lower()\n",
    "    all_titles = movies_dataset['title'].str.lower().tolist()\n",
    "    \n",
    "    if movie not in all_titles:\n",
    "        close_matches = get_close_matches(movie, all_titles, n=1, cutoff=0.6)\n",
    "        if close_matches:\n",
    "            close_match = close_matches[0]\n",
    "            print(f\"✅ Did you mean: {movies_dataset[movies_dataset['title'].str.lower() == close_match]['title'].values[0]}? Following are the recommendations...\\n\")\n",
    "            movie_index = movies_dataset[movies_dataset['title'].str.lower() == close_match].index[0]\n",
    "        else:\n",
    "            print(\"❌ Movie not found. Please check the title.\")\n",
    "            return\n",
    "    else:\n",
    "        movie_index = movies_dataset[movies_dataset['title'].str.lower() == movie].index[0]\n",
    "\n",
    "    distances = similarity[movie_index]\n",
    "    movies_list = sorted(list(enumerate(distances)), reverse=True, key=lambda x: x[1])[1:11]\n",
    "\n",
    "    for i in movies_list:\n",
    "        print(movies_dataset.iloc[i[0]].title)"
   ]
  },
  {
   "cell_type": "code",
   "execution_count": null,
   "id": "223c3ffa-dc7c-4bba-8a5c-ca11b09564cd",
   "metadata": {},
   "outputs": [],
   "source": [
    "recommend('avatar')"
   ]
  },
  {
   "cell_type": "code",
   "execution_count": null,
   "id": "d293f58b-d211-4269-b557-ab7c2175c6d0",
   "metadata": {},
   "outputs": [],
   "source": [
    "recommend(input('Search Movie'))"
   ]
  }
 ],
 "metadata": {
  "kernelspec": {
   "display_name": "Python 3 (ipykernel)",
   "language": "python",
   "name": "python3"
  },
  "language_info": {
   "codemirror_mode": {
    "name": "ipython",
    "version": 3
   },
   "file_extension": ".py",
   "mimetype": "text/x-python",
   "name": "python",
   "nbconvert_exporter": "python",
   "pygments_lexer": "ipython3",
   "version": "3.12.4"
  }
 },
 "nbformat": 4,
 "nbformat_minor": 5
}
